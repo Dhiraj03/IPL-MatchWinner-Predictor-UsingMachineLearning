{
 "cells": [
  {
   "cell_type": "code",
   "execution_count": 25,
   "metadata": {},
   "outputs": [],
   "source": [
    "import pandas as pd\n",
    "import numpy as np\n",
    "import matplotlib.pyplot as plt     \n",
    "import csv\n",
    "from sklearn.preprocessing import LabelEncoder\n",
    "from sklearn.model_selection import train_test_split\n",
    "from sklearn.ensemble import RandomForestClassifier"
   ]
  },
  {
   "cell_type": "code",
   "execution_count": 26,
   "metadata": {},
   "outputs": [],
   "source": [
    "dataset = pd.read_csv('matchesfinal.csv')\n",
    "X = dataset.iloc[:,[2,4,5,6,7]]\n",
    "Y = dataset.iloc[:,10]"
   ]
  },
  {
   "cell_type": "code",
   "execution_count": 27,
   "metadata": {},
   "outputs": [
    {
     "name": "stdout",
     "output_type": "stream",
     "text": [
      "          city                        team1                        team2  \\\n",
      "0    Hyderabad          Sunrisers Hyderabad  Royal Challengers Bangalore   \n",
      "1    Bangalore  Royal Challengers Bangalore             Delhi Daredevils   \n",
      "2       Mumbai        Kolkata Knight Riders               Mumbai Indians   \n",
      "3       Mohali  Royal Challengers Bangalore              Kings XI Punjab   \n",
      "4       Mumbai          Sunrisers Hyderabad               Mumbai Indians   \n",
      "..         ...                          ...                          ...   \n",
      "559     Mumbai        Kolkata Knight Riders               Mumbai Indians   \n",
      "560    Chennai          Chennai Super Kings               Mumbai Indians   \n",
      "561  Hyderabad          Sunrisers Hyderabad             Delhi Daredevils   \n",
      "562  Hyderabad             Delhi Daredevils          Chennai Super Kings   \n",
      "563  Hyderabad               Mumbai Indians          Chennai Super Kings   \n",
      "\n",
      "                     toss_winner toss_decision  \n",
      "0    Royal Challengers Bangalore         field  \n",
      "1    Royal Challengers Bangalore           bat  \n",
      "2                 Mumbai Indians         field  \n",
      "3    Royal Challengers Bangalore           bat  \n",
      "4                 Mumbai Indians         field  \n",
      "..                           ...           ...  \n",
      "559               Mumbai Indians         field  \n",
      "560          Chennai Super Kings           bat  \n",
      "561             Delhi Daredevils         field  \n",
      "562          Chennai Super Kings         field  \n",
      "563               Mumbai Indians           bat  \n",
      "\n",
      "[564 rows x 5 columns]\n"
     ]
    }
   ],
   "source": [
    "print(X)"
   ]
  },
  {
   "cell_type": "code",
   "execution_count": 28,
   "metadata": {},
   "outputs": [
    {
     "name": "stdout",
     "output_type": "stream",
     "text": [
      "0              Sunrisers Hyderabad\n",
      "1      Royal Challengers Bangalore\n",
      "2                   Mumbai Indians\n",
      "3                  Kings XI Punjab\n",
      "4                   Mumbai Indians\n",
      "                  ...             \n",
      "559                 Mumbai Indians\n",
      "560                 Mumbai Indians\n",
      "561               Delhi Daredevils\n",
      "562            Chennai Super Kings\n",
      "563                 Mumbai Indians\n",
      "Name: winner, Length: 564, dtype: object\n"
     ]
    }
   ],
   "source": [
    "print(Y)"
   ]
  },
  {
   "cell_type": "code",
   "execution_count": 29,
   "metadata": {},
   "outputs": [
    {
     "name": "stderr",
     "output_type": "stream",
     "text": [
      "C:\\Users\\dhira\\Anaconda3\\lib\\site-packages\\ipykernel_launcher.py:7: SettingWithCopyWarning: \n",
      "A value is trying to be set on a copy of a slice from a DataFrame.\n",
      "Try using .loc[row_indexer,col_indexer] = value instead\n",
      "\n",
      "See the caveats in the documentation: http://pandas.pydata.org/pandas-docs/stable/user_guide/indexing.html#returning-a-view-versus-a-copy\n",
      "  import sys\n",
      "C:\\Users\\dhira\\Anaconda3\\lib\\site-packages\\ipykernel_launcher.py:8: SettingWithCopyWarning: \n",
      "A value is trying to be set on a copy of a slice from a DataFrame.\n",
      "Try using .loc[row_indexer,col_indexer] = value instead\n",
      "\n",
      "See the caveats in the documentation: http://pandas.pydata.org/pandas-docs/stable/user_guide/indexing.html#returning-a-view-versus-a-copy\n",
      "  \n",
      "C:\\Users\\dhira\\Anaconda3\\lib\\site-packages\\ipykernel_launcher.py:9: SettingWithCopyWarning: \n",
      "A value is trying to be set on a copy of a slice from a DataFrame.\n",
      "Try using .loc[row_indexer,col_indexer] = value instead\n",
      "\n",
      "See the caveats in the documentation: http://pandas.pydata.org/pandas-docs/stable/user_guide/indexing.html#returning-a-view-versus-a-copy\n",
      "  if __name__ == '__main__':\n",
      "C:\\Users\\dhira\\Anaconda3\\lib\\site-packages\\ipykernel_launcher.py:10: SettingWithCopyWarning: \n",
      "A value is trying to be set on a copy of a slice from a DataFrame.\n",
      "Try using .loc[row_indexer,col_indexer] = value instead\n",
      "\n",
      "See the caveats in the documentation: http://pandas.pydata.org/pandas-docs/stable/user_guide/indexing.html#returning-a-view-versus-a-copy\n",
      "  # Remove the CWD from sys.path while we load stuff.\n",
      "C:\\Users\\dhira\\Anaconda3\\lib\\site-packages\\ipykernel_launcher.py:11: SettingWithCopyWarning: \n",
      "A value is trying to be set on a copy of a slice from a DataFrame.\n",
      "Try using .loc[row_indexer,col_indexer] = value instead\n",
      "\n",
      "See the caveats in the documentation: http://pandas.pydata.org/pandas-docs/stable/user_guide/indexing.html#returning-a-view-versus-a-copy\n",
      "  # This is added back by InteractiveShellApp.init_path()\n"
     ]
    }
   ],
   "source": [
    "l1 = LabelEncoder()\n",
    "l2 = LabelEncoder()\n",
    "l3 = LabelEncoder()\n",
    "l4 = LabelEncoder()\n",
    "l5 = LabelEncoder()\n",
    "l6 = LabelEncoder()\n",
    "X['city'] = l1.fit_transform(X['city'].astype(str))\n",
    "X['team1'] = l2.fit_transform(X['team1'].astype(str))\n",
    "X['team2'] = l3.fit_transform(X['team2'].astype(str))\n",
    "X['toss_winner'] = l4.fit_transform(X['toss_winner'].astype(str))\n",
    "X['toss_decision'] = l5.fit_transform(X['toss_decision'])\n",
    "Y = l6.fit_transform(Y.astype(str))"
   ]
  },
  {
   "cell_type": "code",
   "execution_count": 30,
   "metadata": {},
   "outputs": [
    {
     "name": "stdout",
     "output_type": "stream",
     "text": [
      "[ 4  0  8  7  6  3  5  1  2  9 10]\n"
     ]
    },
    {
     "data": {
      "text/html": [
       "<div>\n",
       "<style scoped>\n",
       "    .dataframe tbody tr th:only-of-type {\n",
       "        vertical-align: middle;\n",
       "    }\n",
       "\n",
       "    .dataframe tbody tr th {\n",
       "        vertical-align: top;\n",
       "    }\n",
       "\n",
       "    .dataframe thead th {\n",
       "        text-align: right;\n",
       "    }\n",
       "</style>\n",
       "<table border=\"1\" class=\"dataframe\">\n",
       "  <thead>\n",
       "    <tr style=\"text-align: right;\">\n",
       "      <th></th>\n",
       "      <th>city</th>\n",
       "      <th>team1</th>\n",
       "      <th>team2</th>\n",
       "      <th>toss_winner</th>\n",
       "      <th>toss_decision</th>\n",
       "    </tr>\n",
       "  </thead>\n",
       "  <tbody>\n",
       "    <tr>\n",
       "      <td>0</td>\n",
       "      <td>4</td>\n",
       "      <td>7</td>\n",
       "      <td>6</td>\n",
       "      <td>6</td>\n",
       "      <td>1</td>\n",
       "    </tr>\n",
       "    <tr>\n",
       "      <td>1</td>\n",
       "      <td>0</td>\n",
       "      <td>6</td>\n",
       "      <td>1</td>\n",
       "      <td>6</td>\n",
       "      <td>0</td>\n",
       "    </tr>\n",
       "    <tr>\n",
       "      <td>2</td>\n",
       "      <td>8</td>\n",
       "      <td>3</td>\n",
       "      <td>4</td>\n",
       "      <td>4</td>\n",
       "      <td>1</td>\n",
       "    </tr>\n",
       "    <tr>\n",
       "      <td>3</td>\n",
       "      <td>7</td>\n",
       "      <td>6</td>\n",
       "      <td>2</td>\n",
       "      <td>6</td>\n",
       "      <td>0</td>\n",
       "    </tr>\n",
       "    <tr>\n",
       "      <td>4</td>\n",
       "      <td>8</td>\n",
       "      <td>7</td>\n",
       "      <td>4</td>\n",
       "      <td>4</td>\n",
       "      <td>1</td>\n",
       "    </tr>\n",
       "    <tr>\n",
       "      <td>...</td>\n",
       "      <td>...</td>\n",
       "      <td>...</td>\n",
       "      <td>...</td>\n",
       "      <td>...</td>\n",
       "      <td>...</td>\n",
       "    </tr>\n",
       "    <tr>\n",
       "      <td>559</td>\n",
       "      <td>8</td>\n",
       "      <td>3</td>\n",
       "      <td>4</td>\n",
       "      <td>4</td>\n",
       "      <td>1</td>\n",
       "    </tr>\n",
       "    <tr>\n",
       "      <td>560</td>\n",
       "      <td>1</td>\n",
       "      <td>0</td>\n",
       "      <td>4</td>\n",
       "      <td>0</td>\n",
       "      <td>0</td>\n",
       "    </tr>\n",
       "    <tr>\n",
       "      <td>561</td>\n",
       "      <td>4</td>\n",
       "      <td>7</td>\n",
       "      <td>1</td>\n",
       "      <td>1</td>\n",
       "      <td>1</td>\n",
       "    </tr>\n",
       "    <tr>\n",
       "      <td>562</td>\n",
       "      <td>4</td>\n",
       "      <td>1</td>\n",
       "      <td>0</td>\n",
       "      <td>0</td>\n",
       "      <td>1</td>\n",
       "    </tr>\n",
       "    <tr>\n",
       "      <td>563</td>\n",
       "      <td>4</td>\n",
       "      <td>4</td>\n",
       "      <td>0</td>\n",
       "      <td>4</td>\n",
       "      <td>0</td>\n",
       "    </tr>\n",
       "  </tbody>\n",
       "</table>\n",
       "<p>564 rows × 5 columns</p>\n",
       "</div>"
      ],
      "text/plain": [
       "     city  team1  team2  toss_winner  toss_decision\n",
       "0       4      7      6            6              1\n",
       "1       0      6      1            6              0\n",
       "2       8      3      4            4              1\n",
       "3       7      6      2            6              0\n",
       "4       8      7      4            4              1\n",
       "..    ...    ...    ...          ...            ...\n",
       "559     8      3      4            4              1\n",
       "560     1      0      4            0              0\n",
       "561     4      7      1            1              1\n",
       "562     4      1      0            0              1\n",
       "563     4      4      0            4              0\n",
       "\n",
       "[564 rows x 5 columns]"
      ]
     },
     "execution_count": 30,
     "metadata": {},
     "output_type": "execute_result"
    }
   ],
   "source": [
    "print(X['city'].unique())\n",
    "X"
   ]
  },
  {
   "cell_type": "code",
   "execution_count": 31,
   "metadata": {},
   "outputs": [
    {
     "data": {
      "text/plain": [
       "array([7, 6, 4, 2, 4, 3, 4, 3, 1, 3, 7, 7, 4, 4, 3, 3, 7, 2, 7, 4, 1, 2,\n",
       "       4, 3, 7, 2, 2, 4, 6, 3, 4, 3, 0, 1, 6, 3, 5, 1, 0, 5, 2, 5, 0, 7,\n",
       "       2, 0, 4, 1, 2, 5, 1, 6, 2, 4, 5, 2, 7, 4, 0, 3, 5, 4, 0, 3, 5, 2,\n",
       "       3, 4, 2, 1, 4, 2, 5, 4, 0, 1, 5, 2, 6, 2, 1, 5, 6, 3, 5, 0, 5, 0,\n",
       "       5, 3, 4, 1, 3, 7, 1, 6, 0, 4, 6, 0, 7, 5, 6, 7, 2, 4, 6, 5, 4, 5,\n",
       "       3, 1, 5, 4, 1, 4, 0, 1, 3, 6, 0, 4, 2, 1, 5, 0, 5, 3, 7, 2, 7, 6,\n",
       "       2, 4, 7, 4, 0, 6, 1, 7, 4, 3, 0, 7, 3, 4, 0, 6, 0, 0, 5, 4, 3, 5,\n",
       "       4, 2, 7, 3, 0, 2, 3, 7, 2, 4, 6, 1, 4, 6, 3, 5, 3, 0, 4, 3, 0, 1,\n",
       "       6, 3, 4, 0, 2, 6, 0, 6, 7, 2, 2, 5, 7, 6, 4, 0, 4, 6, 0, 4, 1, 5,\n",
       "       6, 0, 5, 4, 3, 1, 4, 0, 3, 1, 2, 5, 1, 5, 3, 1, 6, 0, 2, 3, 6, 4,\n",
       "       1, 2, 3, 1, 4, 3, 1, 2, 0, 5, 4, 6, 3, 2, 6, 0, 4, 0, 2, 4, 0, 1,\n",
       "       3, 2, 6, 7, 1, 7, 4, 3, 0, 0, 3, 3, 6, 5, 4, 7, 5, 4, 0, 6, 7, 0,\n",
       "       3, 5, 2, 6, 5, 0, 7, 0, 6, 1, 0, 2, 4, 0, 3, 5, 4, 0, 5, 4, 7, 1,\n",
       "       0, 3, 7, 2, 4, 6, 5, 4, 0, 5, 6, 7, 3, 5, 2, 4, 0, 4, 2, 7, 2, 6,\n",
       "       7, 0, 5, 4, 4, 0, 4, 5, 6, 5, 0, 4, 3, 2, 7, 2, 7, 0, 3, 5, 4, 0,\n",
       "       6, 2, 3, 5, 6, 3, 4, 2, 7, 3, 4, 3, 7, 4, 2, 0, 3, 2, 4, 3, 0, 2,\n",
       "       3, 3, 0, 5, 0, 6, 5, 2, 7, 5, 3, 1, 5, 0, 1, 3, 5, 4, 3, 2, 7, 0,\n",
       "       1, 6, 4, 0, 6, 7, 3, 8, 0, 1, 4, 6, 7, 4, 5, 0, 3, 4, 6, 7, 4, 3,\n",
       "       7, 6, 0, 7, 1, 2, 4, 6, 0, 5, 8, 4, 4, 6, 0, 4, 3, 6, 4, 1, 3, 1,\n",
       "       7, 3, 4, 1, 7, 4, 4, 1, 7, 3, 3, 2, 7, 6, 4, 1, 2, 7, 4, 6, 6, 1,\n",
       "       3, 6, 7, 7, 0, 2, 3, 7, 0, 5, 7, 6, 1, 7, 5, 2, 3, 4, 3, 2, 0, 2,\n",
       "       6, 0, 5, 2, 7, 0, 7, 1, 4, 7, 3, 0, 6, 1, 3, 4, 0, 7, 4, 2, 7, 5,\n",
       "       4, 7, 5, 3, 6, 0, 5, 6, 3, 4, 6, 1, 5, 3, 1, 0, 0, 3, 7, 0, 0, 3,\n",
       "       1, 2, 0, 3, 4, 7, 2, 1, 7, 0, 2, 5, 4, 7, 3, 0, 4, 1, 3, 2, 0, 4,\n",
       "       0, 1, 5, 6, 0, 1, 4, 2, 7, 4, 6, 5, 1, 7, 6, 1, 0, 6, 5, 4, 5, 1,\n",
       "       3, 7, 8, 0, 4, 3, 1, 6, 2, 4, 4, 1, 0, 4])"
      ]
     },
     "execution_count": 31,
     "metadata": {},
     "output_type": "execute_result"
    }
   ],
   "source": [
    "Y"
   ]
  },
  {
   "cell_type": "code",
   "execution_count": 32,
   "metadata": {},
   "outputs": [],
   "source": [
    "X_train, X_test, Y_train, Y_test = train_test_split(X,Y,test_size = 0.3, random_state = 0)\n",
    "classifier = RandomForestClassifier(n_estimators=40,criterion=\"gini\", random_state = 42, min_samples_leaf=10, max_depth = 8)"
   ]
  },
  {
   "cell_type": "code",
   "execution_count": 33,
   "metadata": {},
   "outputs": [
    {
     "data": {
      "text/plain": [
       "RandomForestClassifier(bootstrap=True, class_weight=None, criterion='gini',\n",
       "                       max_depth=8, max_features='auto', max_leaf_nodes=None,\n",
       "                       min_impurity_decrease=0.0, min_impurity_split=None,\n",
       "                       min_samples_leaf=10, min_samples_split=2,\n",
       "                       min_weight_fraction_leaf=0.0, n_estimators=40,\n",
       "                       n_jobs=None, oob_score=False, random_state=42, verbose=0,\n",
       "                       warm_start=False)"
      ]
     },
     "execution_count": 33,
     "metadata": {},
     "output_type": "execute_result"
    }
   ],
   "source": [
    "classifier.fit(X_train, Y_train)"
   ]
  },
  {
   "cell_type": "code",
   "execution_count": 34,
   "metadata": {},
   "outputs": [],
   "source": [
    "y_pred = classifier.predict(X_test)"
   ]
  },
  {
   "cell_type": "code",
   "execution_count": 35,
   "metadata": {},
   "outputs": [
    {
     "name": "stdout",
     "output_type": "stream",
     "text": [
      "[4 6 7 0 3 0 1 4 2 3 2 7 7 0 0 4 0 6 6 2 3 3 1 5 4 1 1 2 4 6 1 0 7 6 3 6 7\n",
      " 6 6 7 3 4 4 5 3 5 2 4 5 2 7 6 4 3 1 4 4 4 2 4 5 3 2 0 0 5 4 0 7 4 5 0 0 5\n",
      " 4 3 4 2 7 0 3 3 7 2 7 0 5 4 0 3 0 4 3 2 6 0 0 8 1 4 8 0 7 0 0 0 7 6 2 5 1\n",
      " 4 4 6 2 0 4 2 3 2 0 1 4 7 5 6 3 1 2 4 0 3 7 3 5 1 0 3 2 3 5 4 4 3 4 4 6 6\n",
      " 3 1 3 0 5 3 4 5 4 4 5 5 4 5 5 7 6 1 3 0 7 3]\n",
      "[4 6 7 0 3 0 1 4 1 4 2 7 7 0 0 4 0 2 6 2 1 6 1 2 2 7 3 2 0 0 1 0 7 0 7 4 7\n",
      " 7 4 3 4 4 4 5 3 5 7 3 7 2 0 6 4 3 1 4 4 6 2 7 5 3 2 0 0 1 7 0 7 0 5 5 0 6\n",
      " 3 3 4 6 0 0 3 0 7 1 4 7 1 4 0 3 0 4 3 2 1 0 0 5 1 4 6 0 3 0 0 0 7 2 1 5 2\n",
      " 4 4 6 2 7 2 2 3 2 0 7 4 7 3 6 3 1 1 0 0 3 7 3 0 1 0 3 2 3 5 4 3 4 4 4 5 6\n",
      " 3 0 3 0 5 7 3 5 1 3 1 0 4 7 5 7 6 1 3 0 7 3]\n"
     ]
    }
   ],
   "source": [
    "print(Y_test)\n",
    "print(y_pred)"
   ]
  },
  {
   "cell_type": "code",
   "execution_count": 36,
   "metadata": {},
   "outputs": [
    {
     "name": "stdout",
     "output_type": "stream",
     "text": [
      "108\n"
     ]
    }
   ],
   "source": [
    "print(np.sum(Y_test==y_pred))"
   ]
  },
  {
   "cell_type": "code",
   "execution_count": 37,
   "metadata": {},
   "outputs": [
    {
     "data": {
      "text/plain": [
       "array([1, 0], dtype=int64)"
      ]
     },
     "execution_count": 37,
     "metadata": {},
     "output_type": "execute_result"
    }
   ],
   "source": [
    "X['toss_decision'].unique()"
   ]
  },
  {
   "cell_type": "code",
   "execution_count": 38,
   "metadata": {},
   "outputs": [
    {
     "data": {
      "text/plain": [
       "SVC(C=1.0, cache_size=200, class_weight=None, coef0=0.0,\n",
       "    decision_function_shape='ovr', degree=4, gamma='auto', kernel='poly',\n",
       "    max_iter=-1, probability=False, random_state=0, shrinking=True, tol=0.001,\n",
       "    verbose=False)"
      ]
     },
     "execution_count": 38,
     "metadata": {},
     "output_type": "execute_result"
    }
   ],
   "source": [
    "from sklearn.svm import SVC\n",
    "classifier = SVC(kernel = 'poly', degree = 4, random_state = 0, gamma='auto')\n",
    "classifier.fit(X_train,Y_train)"
   ]
  },
  {
   "cell_type": "code",
   "execution_count": 39,
   "metadata": {},
   "outputs": [],
   "source": [
    "y_pred = classifier.predict(X_test)"
   ]
  },
  {
   "cell_type": "code",
   "execution_count": 40,
   "metadata": {},
   "outputs": [
    {
     "data": {
      "text/plain": [
       "array([4, 6, 7, 0, 3, 0, 6, 4, 2, 4, 2, 5, 5, 0, 6, 4, 0, 2, 6, 2, 1, 6,\n",
       "       6, 5, 4, 7, 3, 4, 4, 0, 1, 0, 7, 6, 3, 4, 7, 6, 6, 3, 7, 4, 4, 1,\n",
       "       3, 4, 7, 3, 5, 2, 7, 6, 4, 3, 2, 7, 4, 4, 2, 4, 1, 3, 2, 0, 0, 1,\n",
       "       7, 0, 7, 0, 5, 5, 0, 6, 3, 3, 4, 6, 0, 0, 5, 0, 7, 1, 7, 7, 1, 4,\n",
       "       0, 2, 0, 4, 3, 2, 6, 0, 0, 5, 1, 4, 6, 0, 7, 0, 0, 0, 3, 2, 2, 2,\n",
       "       1, 2, 7, 1, 6, 0, 2, 5, 3, 2, 0, 7, 7, 7, 5, 6, 3, 1, 1, 0, 0, 3,\n",
       "       7, 2, 1, 1, 0, 5, 2, 3, 3, 4, 3, 3, 4, 4, 5, 6, 3, 0, 3, 0, 5, 3,\n",
       "       3, 3, 1, 3, 5, 5, 4, 6, 3, 7, 6, 1, 3, 0, 7, 3])"
      ]
     },
     "execution_count": 40,
     "metadata": {},
     "output_type": "execute_result"
    }
   ],
   "source": [
    "y_pred"
   ]
  },
  {
   "cell_type": "code",
   "execution_count": 41,
   "metadata": {},
   "outputs": [
    {
     "data": {
      "text/plain": [
       "array([4, 6, 7, 0, 3, 0, 1, 4, 2, 3, 2, 7, 7, 0, 0, 4, 0, 6, 6, 2, 3, 3,\n",
       "       1, 5, 4, 1, 1, 2, 4, 6, 1, 0, 7, 6, 3, 6, 7, 6, 6, 7, 3, 4, 4, 5,\n",
       "       3, 5, 2, 4, 5, 2, 7, 6, 4, 3, 1, 4, 4, 4, 2, 4, 5, 3, 2, 0, 0, 5,\n",
       "       4, 0, 7, 4, 5, 0, 0, 5, 4, 3, 4, 2, 7, 0, 3, 3, 7, 2, 7, 0, 5, 4,\n",
       "       0, 3, 0, 4, 3, 2, 6, 0, 0, 8, 1, 4, 8, 0, 7, 0, 0, 0, 7, 6, 2, 5,\n",
       "       1, 4, 4, 6, 2, 0, 4, 2, 3, 2, 0, 1, 4, 7, 5, 6, 3, 1, 2, 4, 0, 3,\n",
       "       7, 3, 5, 1, 0, 3, 2, 3, 5, 4, 4, 3, 4, 4, 6, 6, 3, 1, 3, 0, 5, 3,\n",
       "       4, 5, 4, 4, 5, 5, 4, 5, 5, 7, 6, 1, 3, 0, 7, 3])"
      ]
     },
     "execution_count": 41,
     "metadata": {},
     "output_type": "execute_result"
    }
   ],
   "source": [
    "Y_test"
   ]
  },
  {
   "cell_type": "code",
   "execution_count": 42,
   "metadata": {},
   "outputs": [
    {
     "data": {
      "text/plain": [
       "105"
      ]
     },
     "execution_count": 42,
     "metadata": {},
     "output_type": "execute_result"
    }
   ],
   "source": [
    "np.sum(Y_test==y_pred)"
   ]
  },
  {
   "cell_type": "code",
   "execution_count": null,
   "metadata": {},
   "outputs": [],
   "source": []
  }
 ],
 "metadata": {
  "kernelspec": {
   "display_name": "Python 3",
   "language": "python",
   "name": "python3"
  },
  "language_info": {
   "codemirror_mode": {
    "name": "ipython",
    "version": 3
   },
   "file_extension": ".py",
   "mimetype": "text/x-python",
   "name": "python",
   "nbconvert_exporter": "python",
   "pygments_lexer": "ipython3",
   "version": "3.7.4"
  }
 },
 "nbformat": 4,
 "nbformat_minor": 2
}
